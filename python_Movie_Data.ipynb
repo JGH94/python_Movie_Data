{
  "nbformat": 4,
  "nbformat_minor": 0,
  "metadata": {
    "colab": {
      "provenance": [],
      "authorship_tag": "ABX9TyOsoQ/ZgQqltUYuAxhP9sih",
      "include_colab_link": true
    },
    "kernelspec": {
      "name": "python3",
      "display_name": "Python 3"
    },
    "language_info": {
      "name": "python"
    }
  },
  "cells": [
    {
      "cell_type": "markdown",
      "metadata": {
        "id": "view-in-github",
        "colab_type": "text"
      },
      "source": [
        "<a href=\"https://colab.research.google.com/github/JGH94/python_Movie_Data/blob/main/python_Movie_Data.ipynb\" target=\"_parent\"><img src=\"https://colab.research.google.com/assets/colab-badge.svg\" alt=\"Open In Colab\"/></a>"
      ]
    },
    {
      "cell_type": "code",
      "execution_count": 13,
      "metadata": {
        "id": "Dm3yrwPLIouh"
      },
      "outputs": [],
      "source": [
        "# 참고 https://github.com/wesm/pydata-book\n",
        "import pandas as pd\n",
        "import numpy as np\n",
        "import matplotlib.pyplot as plt\n"
      ]
    },
    {
      "cell_type": "code",
      "source": [
        "# 데이터 바인딩\n",
        "uName = ['user_id','gender','age', 'occupation','zip']\n",
        "user = pd.read_table('/content/sample_data/users.dat',sep= '::' , header = None, names = uName)\n",
        "print(user[:5])\n",
        "print('-------------------------------------------------------------------------------------')\n",
        "rName = ['user_id','movie_id','rating', 'timestamp']\n",
        "ratings = pd.read_table('/content/sample_data/ratings.dat',sep= '::' , header = None, names = rName)\n",
        "print(ratings[:5])\n",
        "print('-------------------------------------------------------------------------------------')\n",
        "mName = ['movie_id','title','genres']\n",
        "movies = pd.read_table('/content/sample_data/movies.dat',sep= '::' , header = None, names = mName)\n",
        "print(movies[:5])"
      ],
      "metadata": {
        "colab": {
          "base_uri": "https://localhost:8080/"
        },
        "id": "UeblW1iypMmw",
        "outputId": "1b5d7f4d-4338-4fd5-c547-cd7651d186aa"
      },
      "execution_count": 4,
      "outputs": [
        {
          "output_type": "stream",
          "name": "stdout",
          "text": [
            "   user_id gender  age  occupation    zip\n",
            "0        1      F    1          10  48067\n",
            "1        2      M   56          16  70072\n",
            "2        3      M   25          15  55117\n",
            "3        4      M   45           7  02460\n",
            "4        5      M   25          20  55455\n",
            "-------------------------------------------------------------------------------------\n"
          ]
        },
        {
          "output_type": "stream",
          "name": "stderr",
          "text": [
            "/usr/local/lib/python3.8/dist-packages/pandas/util/_decorators.py:311: ParserWarning: Falling back to the 'python' engine because the 'c' engine does not support regex separators (separators > 1 char and different from '\\s+' are interpreted as regex); you can avoid this warning by specifying engine='python'.\n",
            "  return func(*args, **kwargs)\n"
          ]
        },
        {
          "output_type": "stream",
          "name": "stdout",
          "text": [
            "   user_id  movie_id  rating  timestamp\n",
            "0        1      1193       5  978300760\n",
            "1        1       661       3  978302109\n",
            "2        1       914       3  978301968\n",
            "3        1      3408       4  978300275\n",
            "4        1      2355       5  978824291\n",
            "-------------------------------------------------------------------------------------\n",
            "   movie_id                               title                        genres\n",
            "0         1                    Toy Story (1995)   Animation|Children's|Comedy\n",
            "1         2                      Jumanji (1995)  Adventure|Children's|Fantasy\n",
            "2         3             Grumpier Old Men (1995)                Comedy|Romance\n",
            "3         4            Waiting to Exhale (1995)                  Comedy|Drama\n",
            "4         5  Father of the Bride Part II (1995)                        Comedy\n"
          ]
        },
        {
          "output_type": "stream",
          "name": "stderr",
          "text": [
            "/usr/local/lib/python3.8/dist-packages/pandas/util/_decorators.py:311: ParserWarning: Falling back to the 'python' engine because the 'c' engine does not support regex separators (separators > 1 char and different from '\\s+' are interpreted as regex); you can avoid this warning by specifying engine='python'.\n",
            "  return func(*args, **kwargs)\n"
          ]
        }
      ]
    },
    {
      "cell_type": "code",
      "source": [
        "# 불러온 데이터를 하나로 병합\n",
        "list_ = pd.merge(pd.merge(ratings, user), movies)\n",
        "print('1------------------------------------------------------')\n",
        "print(list_[:5])\n",
        "print(list_.iloc[0])\n",
        "print('2------------------------------------------------------')\n",
        "# 영화 평점 건수가 250건 이상 영화 구하기\n",
        "ratings_by_title = list_.groupby('title').size()\n",
        "print(ratings_by_title[:10])\n",
        "list_250 = ratings_by_title.index[ratings_by_title >= 250]\n",
        "print(list_250[:10])\n",
        "print('3------------------------------------------------------') \n",
        "# 영화를 성별에 따른 평균 평점 구하기\n",
        "mean_ratings = list_.pivot_table('rating', index = 'title', columns = 'gender' , aggfunc='mean')\n",
        "mean_ratings = mean_ratings.loc[list_250] \n",
        "print(mean_ratings[:10])\n",
        "print('4------------------------------------------------------')  \n",
        "# 호불호 차이 : diff 가 + 면 남자가 호, -면 여자가 호 0 에 가까울수록 호불호 X\n",
        "mean_ratings['diff'] = mean_ratings['M'] - mean_ratings['F']\n",
        "top_female_rating = mean_ratings.sort_values(by='diff')\n",
        "print(top_female_rating[:10])\n",
        "print(top_female_rating[::-1][:10])\n",
        "print('5------------------------------------------------------')   \n",
        "# 표준편차를 구해보자 (250 건 이상 적용)\n",
        "rating_Value = list_.groupby('title')['rating'].std()\n",
        "rating_Value = rating_Value.loc[list_250]\n",
        "print(rating_Value.sort_values(ascending=True)[:10])\n",
        "# 표준편차 값을 시각화\n",
        "X_ = []\n",
        "Y_ = []\n",
        "for x,y in rating_Value.sort_values(ascending=True)[:10].items():\n",
        "  X_.append(x)\n",
        "  Y_.append(y)  \n",
        "x_ = np.arange(10)\n",
        "title_font = {\n",
        "    'fontsize': 16,\n",
        "    'fontweight': 'bold'\n",
        "}\n",
        "plt.barh(x_, Y_, height = 0.5)  \n",
        "plt.title('Movie Ratings', fontdict=title_font, loc='left', pad=10)\n",
        "plt.yticks(x_, X_)"
      ],
      "metadata": {
        "colab": {
          "base_uri": "https://localhost:8080/",
          "height": 1000
        },
        "id": "2mR9WtyfqiLo",
        "outputId": "8135665a-56ea-4bfd-8a15-6fb548a4a659"
      },
      "execution_count": 14,
      "outputs": [
        {
          "output_type": "stream",
          "name": "stdout",
          "text": [
            "1------------------------------------------------------\n",
            "   user_id  movie_id  rating  timestamp gender  age  occupation    zip  \\\n",
            "0        1      1193       5  978300760      F    1          10  48067   \n",
            "1        2      1193       5  978298413      M   56          16  70072   \n",
            "2       12      1193       4  978220179      M   25          12  32793   \n",
            "3       15      1193       4  978199279      M   25           7  22903   \n",
            "4       17      1193       5  978158471      M   50           1  95350   \n",
            "\n",
            "                                    title genres  \n",
            "0  One Flew Over the Cuckoo's Nest (1975)  Drama  \n",
            "1  One Flew Over the Cuckoo's Nest (1975)  Drama  \n",
            "2  One Flew Over the Cuckoo's Nest (1975)  Drama  \n",
            "3  One Flew Over the Cuckoo's Nest (1975)  Drama  \n",
            "4  One Flew Over the Cuckoo's Nest (1975)  Drama  \n",
            "user_id                                            1\n",
            "movie_id                                        1193\n",
            "rating                                             5\n",
            "timestamp                                  978300760\n",
            "gender                                             F\n",
            "age                                                1\n",
            "occupation                                        10\n",
            "zip                                            48067\n",
            "title         One Flew Over the Cuckoo's Nest (1975)\n",
            "genres                                         Drama\n",
            "Name: 0, dtype: object\n",
            "2------------------------------------------------------\n",
            "title\n",
            "$1,000,000 Duck (1971)                37\n",
            "'Night Mother (1986)                  70\n",
            "'Til There Was You (1997)             52\n",
            "'burbs, The (1989)                   303\n",
            "...And Justice for All (1979)        199\n",
            "1-900 (1994)                           2\n",
            "10 Things I Hate About You (1999)    700\n",
            "101 Dalmatians (1961)                565\n",
            "101 Dalmatians (1996)                364\n",
            "12 Angry Men (1957)                  616\n",
            "dtype: int64\n",
            "Index([''burbs, The (1989)', '10 Things I Hate About You (1999)',\n",
            "       '101 Dalmatians (1961)', '101 Dalmatians (1996)', '12 Angry Men (1957)',\n",
            "       '13th Warrior, The (1999)', '2 Days in the Valley (1996)',\n",
            "       '20,000 Leagues Under the Sea (1954)', '2001: A Space Odyssey (1968)',\n",
            "       '2010 (1984)'],\n",
            "      dtype='object', name='title')\n",
            "3------------------------------------------------------\n",
            "gender                                      F         M\n",
            "title                                                  \n",
            "'burbs, The (1989)                   2.793478  2.962085\n",
            "10 Things I Hate About You (1999)    3.646552  3.311966\n",
            "101 Dalmatians (1961)                3.791444  3.500000\n",
            "101 Dalmatians (1996)                3.240000  2.911215\n",
            "12 Angry Men (1957)                  4.184397  4.328421\n",
            "13th Warrior, The (1999)             3.112000  3.168000\n",
            "2 Days in the Valley (1996)          3.488889  3.244813\n",
            "20,000 Leagues Under the Sea (1954)  3.670103  3.709205\n",
            "2001: A Space Odyssey (1968)         3.825581  4.129738\n",
            "2010 (1984)                          3.446809  3.413712\n",
            "4------------------------------------------------------\n",
            "gender                                        F         M      diff\n",
            "title                                                              \n",
            "Dirty Dancing (1987)                   3.790378  2.959596 -0.830782\n",
            "Jumpin' Jack Flash (1986)              3.254717  2.578358 -0.676359\n",
            "Grease (1978)                          3.975265  3.367041 -0.608224\n",
            "Little Women (1994)                    3.870588  3.321739 -0.548849\n",
            "Steel Magnolias (1989)                 3.901734  3.365957 -0.535777\n",
            "Anastasia (1997)                       3.800000  3.281609 -0.518391\n",
            "Rocky Horror Picture Show, The (1975)  3.673016  3.160131 -0.512885\n",
            "Color Purple, The (1985)               4.158192  3.659341 -0.498851\n",
            "Age of Innocence, The (1993)           3.827068  3.339506 -0.487561\n",
            "Free Willy (1993)                      2.921348  2.438776 -0.482573\n",
            "gender                                         F         M      diff\n",
            "title                                                               \n",
            "Good, The Bad and The Ugly, The (1966)  3.494949  4.221300  0.726351\n",
            "Kentucky Fried Movie, The (1977)        2.878788  3.555147  0.676359\n",
            "Dumb & Dumber (1994)                    2.697987  3.336595  0.638608\n",
            "Longest Day, The (1962)                 3.411765  4.031447  0.619682\n",
            "Cable Guy, The (1996)                   2.250000  2.863787  0.613787\n",
            "Evil Dead II (Dead By Dawn) (1987)      3.297297  3.909283  0.611985\n",
            "Hidden, The (1987)                      3.137931  3.745098  0.607167\n",
            "Rocky III (1982)                        2.361702  2.943503  0.581801\n",
            "Caddyshack (1980)                       3.396135  3.969737  0.573602\n",
            "For a Few Dollars More (1965)           3.409091  3.953795  0.544704\n",
            "5------------------------------------------------------\n",
            "title\n",
            "Close Shave, A (1995)                            0.667143\n",
            "Rear Window (1954)                               0.688946\n",
            "Great Escape, The (1963)                         0.692585\n",
            "Shawshank Redemption, The (1994)                 0.700443\n",
            "Wrong Trousers, The (1993)                       0.708666\n",
            "Raiders of the Lost Ark (1981)                   0.725647\n",
            "North by Northwest (1959)                        0.732515\n",
            "Hustler, The (1961)                              0.737298\n",
            "Double Indemnity (1944)                          0.740793\n",
            "Sunset Blvd. (a.k.a. Sunset Boulevard) (1950)    0.740924\n",
            "Name: rating, dtype: float64\n"
          ]
        },
        {
          "output_type": "execute_result",
          "data": {
            "text/plain": [
              "([<matplotlib.axis.YTick at 0x7f9fc7497df0>,\n",
              "  <matplotlib.axis.YTick at 0x7f9fc74979d0>,\n",
              "  <matplotlib.axis.YTick at 0x7f9fc74909a0>,\n",
              "  <matplotlib.axis.YTick at 0x7f9fc744ebe0>,\n",
              "  <matplotlib.axis.YTick at 0x7f9fc7460130>,\n",
              "  <matplotlib.axis.YTick at 0x7f9fc7460640>,\n",
              "  <matplotlib.axis.YTick at 0x7f9fc7460b50>,\n",
              "  <matplotlib.axis.YTick at 0x7f9fc74630a0>,\n",
              "  <matplotlib.axis.YTick at 0x7f9fc74635b0>,\n",
              "  <matplotlib.axis.YTick at 0x7f9fc7463ac0>],\n",
              " [Text(0, 0, 'Close Shave, A (1995)'),\n",
              "  Text(0, 0, 'Rear Window (1954)'),\n",
              "  Text(0, 0, 'Great Escape, The (1963)'),\n",
              "  Text(0, 0, 'Shawshank Redemption, The (1994)'),\n",
              "  Text(0, 0, 'Wrong Trousers, The (1993)'),\n",
              "  Text(0, 0, 'Raiders of the Lost Ark (1981)'),\n",
              "  Text(0, 0, 'North by Northwest (1959)'),\n",
              "  Text(0, 0, 'Hustler, The (1961)'),\n",
              "  Text(0, 0, 'Double Indemnity (1944)'),\n",
              "  Text(0, 0, 'Sunset Blvd. (a.k.a. Sunset Boulevard) (1950)')])"
            ]
          },
          "metadata": {},
          "execution_count": 14
        },
        {
          "output_type": "display_data",
          "data": {
            "text/plain": [
              "<Figure size 432x288 with 1 Axes>"
            ],
            "image/png": "[encoded data removed]"
          },
          "metadata": {
            "needs_background": "light"
          }
        }
      ]
    }
  ]
}